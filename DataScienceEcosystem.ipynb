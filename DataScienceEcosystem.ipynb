{
 "cells": [
  {
   "cell_type": "code",
   "execution_count": null,
   "id": "66c9c717",
   "metadata": {},
   "outputs": [],
   "source": [
    "#Data science tools and ecosystem\n"
   ]
  },
  {
   "cell_type": "code",
   "execution_count": null,
   "id": "9971be7d",
   "metadata": {},
   "outputs": [],
   "source": [
    "#In this notebook, Data Science Tools and Ecosystem are summarized.\n"
   ]
  },
  {
   "cell_type": "code",
   "execution_count": null,
   "id": "dff0687c",
   "metadata": {},
   "outputs": [],
   "source": [
    "#Some of the popular languages that Data Scientists use are:\n",
    "#Python\n",
    "#R\n",
    "#SQL\n",
    "#Julia"
   ]
  },
  {
   "cell_type": "code",
   "execution_count": null,
   "id": "1074e0f3",
   "metadata": {},
   "outputs": [],
   "source": [
    "#Some of the commonly used libraries used by Data Scientists include:\n",
    "#NumPy\n",
    "#Pandas\n",
    "#GGplot\n",
    "#Tidyverse\n"
   ]
  },
  {
   "cell_type": "code",
   "execution_count": 1,
   "id": "badc4ebd",
   "metadata": {},
   "outputs": [],
   "source": [
    "#Data science tools\n",
    "#Apache Spark\n",
    "#SAS\n",
    "#SPSS"
   ]
  },
  {
   "cell_type": "code",
   "execution_count": null,
   "id": "bc642a50",
   "metadata": {},
   "outputs": [],
   "source": [
    "#Below are a few examples of evaluating arithmetic expressions in Python\n"
   ]
  },
  {
   "cell_type": "code",
   "execution_count": 2,
   "id": "a5ba0ac6",
   "metadata": {},
   "outputs": [
    {
     "name": "stdout",
     "output_type": "stream",
     "text": [
      "17\n"
     ]
    }
   ],
   "source": [
    "#This a simple arithmetic expression to mutiply then add integers\n",
    "a=(3*4)+5\n",
    "print(a)\n"
   ]
  },
  {
   "cell_type": "code",
   "execution_count": 3,
   "id": "451a3e25",
   "metadata": {},
   "outputs": [
    {
     "name": "stdout",
     "output_type": "stream",
     "text": [
      "3.3333333333333335\n"
     ]
    }
   ],
   "source": [
    "#This will convert 200 minutes to hours by diving by 60\n",
    "b=200/60\n",
    "print(b)\n"
   ]
  },
  {
   "cell_type": "code",
   "execution_count": null,
   "id": "7c6c31fb",
   "metadata": {},
   "outputs": [],
   "source": [
    "#Objectives:\n",
    "#Popular languages for datascience\n",
    "#arithmetic calculations\n",
    "#popular tools for datascience"
   ]
  },
  {
   "cell_type": "code",
   "execution_count": null,
   "id": "b813f144",
   "metadata": {},
   "outputs": [],
   "source": [
    "#author details\n",
    "#R Malik"
   ]
  }
 ],
 "metadata": {
  "kernelspec": {
   "display_name": "Python 3 (ipykernel)",
   "language": "python",
   "name": "python3"
  },
  "language_info": {
   "codemirror_mode": {
    "name": "ipython",
    "version": 3
   },
   "file_extension": ".py",
   "mimetype": "text/x-python",
   "name": "python",
   "nbconvert_exporter": "python",
   "pygments_lexer": "ipython3",
   "version": "3.11.5"
  }
 },
 "nbformat": 4,
 "nbformat_minor": 5
}
